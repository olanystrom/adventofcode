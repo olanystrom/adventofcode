{
 "cells": [
  {
   "cell_type": "code",
   "execution_count": 25,
   "metadata": {},
   "outputs": [],
   "source": [
    "from typing import List\n",
    "import sys\n",
    "sys.path.insert(1, sys.path[0] + '/..')  # Add parent of my directory to path\n",
    "import AOC  ## pylint: disable=import-error\n",
    "lines: List = AOC.loadInput(None,'input', notInt=True)\n",
    "TEST: List = AOC.loadInput(None,'test', notInt=True)"
   ]
  },
  {
   "cell_type": "code",
   "execution_count": 106,
   "metadata": {},
   "outputs": [
    {
     "name": "stdout",
     "output_type": "stream",
     "text": [
      "x=0 y=1 linput[x][y]='1'\n",
      "x=0 y=9 linput[x][y]='0'\n",
      "x=2 y=2 linput[x][y]='5'\n",
      "x=4 y=6 linput[x][y]='5'\n"
     ]
    }
   ],
   "source": [
    "linput = TEST\n",
    "for x in range(len(linput)):\n",
    "    for y in range(len(linput[0])):\n",
    "        # print(f\"{x=},{y=}\")\n",
    "        if lowpoint(linput, x, y):\n",
    "            print(f\"{x=} {y=} {linput[x][y]=}\")"
   ]
  },
  {
   "cell_type": "code",
   "execution_count": 93,
   "metadata": {},
   "outputs": [],
   "source": [
    "def lowpoint(data: List, x: int, y: int) -> bool:\n",
    "    testmatrix = [(-1, 0), (0, 1), (0, -1), (1, 0)]\n",
    "    point = int(data[x][y])\n",
    "    low = True\n",
    "    maxy = len(data[0])\n",
    "    maxx = len(data)\n",
    "    for test in testmatrix:\n",
    "        x1, y1 = test\n",
    "        x2 = x+x1; y2 = y+y1\n",
    "        if x2 >= maxx or y2 >= maxy or x2 < 0 or y2 < 0:\n",
    "            continue \n",
    "        if int(data[x2][y2]) <= point:\n",
    "            low = False\n",
    "    return low"
   ]
  },
  {
   "cell_type": "code",
   "execution_count": 96,
   "metadata": {},
   "outputs": [
    {
     "data": {
      "text/plain": [
       "True"
      ]
     },
     "execution_count": 96,
     "metadata": {},
     "output_type": "execute_result"
    }
   ],
   "source": [
    "lowpoint(linput, 0, 9)"
   ]
  },
  {
   "cell_type": "code",
   "execution_count": 101,
   "metadata": {},
   "outputs": [
    {
     "data": {
      "text/plain": [
       "10"
      ]
     },
     "execution_count": 101,
     "metadata": {},
     "output_type": "execute_result"
    }
   ],
   "source": [
    "len(linput[0])"
   ]
  }
 ],
 "metadata": {
  "interpreter": {
   "hash": "31f2aee4e71d21fbe5cf8b01ff0e069b9275f58929596ceb00d14d90e3e16cd6"
  },
  "kernelspec": {
   "display_name": "Python 3.7.3 64-bit",
   "language": "python",
   "name": "python3"
  },
  "language_info": {
   "codemirror_mode": {
    "name": "ipython",
    "version": 3
   },
   "file_extension": ".py",
   "mimetype": "text/x-python",
   "name": "python",
   "nbconvert_exporter": "python",
   "pygments_lexer": "ipython3",
   "version": "3.10.1"
  },
  "orig_nbformat": 4
 },
 "nbformat": 4,
 "nbformat_minor": 2
}
