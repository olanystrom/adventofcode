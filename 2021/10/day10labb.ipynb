{
 "cells": [
  {
   "cell_type": "code",
   "execution_count": 1,
   "metadata": {},
   "outputs": [],
   "source": [
    "from typing import List\n",
    "import sys\n",
    "sys.path.insert(1, sys.path[0] + '/..')  # Add parent of my directory to path\n",
    "import AOC  ## pylint: disable=import-error\n",
    "lines: List = AOC.loadInput(None,'input', notInt=True)\n",
    "TEST: List = AOC.loadInput(None,'test', notInt=True)"
   ]
  },
  {
   "cell_type": "markdown",
   "metadata": {},
   "source": [
    "   * ): 3 points.  \n",
    "   * ]: 57 points.  \n",
    "   * }: 1197 points.  \n",
    "   * \\>: 25137 points.  "
   ]
  },
  {
   "cell_type": "code",
   "execution_count": 34,
   "metadata": {},
   "outputs": [],
   "source": [
    "def checkline(line: str) -> int:\n",
    "        lastseen = []\n",
    "        for token in line:\n",
    "            if not lastseen:\n",
    "                lastseen.append(token)\n",
    "            else:\n",
    "                if token in \"<[({\":\n",
    "                    lastseen.append(token)\n",
    "                elif token in \">)}]\":\n",
    "                    last = lastseen.pop()\n",
    "                    if token == \")\" and not last == \"(\":\n",
    "                        print(f\"wrong: {lastseen} {token}\")\n",
    "                        return 3\n",
    "                    if token == \"]\" and not last == \"[\":\n",
    "                        print(f\"wrong: {lastseen} {token}\")\n",
    "                        return 57\n",
    "                    if token == \"}\" and not last == \"{\":\n",
    "                        print(f\"wrong: {lastseen} {token}\")\n",
    "                        return 1197\n",
    "                    if token == \">\" and not last == \"<\":\n",
    "                        print(f\"wrong: {lastseen} {token}\")\n",
    "                        return 25137\n",
    "                    \n",
    "        return 0\n"
   ]
  },
  {
   "cell_type": "code",
   "execution_count": 35,
   "metadata": {},
   "outputs": [
    {
     "data": {
      "text/plain": [
       "0"
      ]
     },
     "execution_count": 35,
     "metadata": {},
     "output_type": "execute_result"
    }
   ],
   "source": [
    "checkline(TEST[0])"
   ]
  },
  {
   "cell_type": "code",
   "execution_count": 36,
   "metadata": {},
   "outputs": [
    {
     "name": "stdout",
     "output_type": "stream",
     "text": [
      "wrong: ['{', '(', '[', '(', '<'] }\n",
      "wrong: ['[', '[', '<'] )\n",
      "wrong: ['[', '{', '[', '{'] ]\n",
      "wrong: ['[', '<', '(', '<', '(', '<', '('] )\n",
      "wrong: ['<', '{', '(', '[', '('] >\n"
     ]
    },
    {
     "data": {
      "text/plain": [
       "26397"
      ]
     },
     "execution_count": 36,
     "metadata": {},
     "output_type": "execute_result"
    }
   ],
   "source": [
    "ret = 0\n",
    "for line in TEST:\n",
    "    # print(f\"checking {line}\")\n",
    "    ret += checkline(line)\n",
    "\n",
    "ret"
   ]
  },
  {
   "cell_type": "code",
   "execution_count": 32,
   "metadata": {},
   "outputs": [
    {
     "data": {
      "text/plain": [
       "'('"
      ]
     },
     "execution_count": 32,
     "metadata": {},
     "output_type": "execute_result"
    }
   ],
   "source": [
    "a.pop()"
   ]
  },
  {
   "cell_type": "code",
   "execution_count": 33,
   "metadata": {},
   "outputs": [
    {
     "data": {
      "text/plain": [
       "[]"
      ]
     },
     "execution_count": 33,
     "metadata": {},
     "output_type": "execute_result"
    }
   ],
   "source": [
    "a"
   ]
  },
  {
   "cell_type": "code",
   "execution_count": 26,
   "metadata": {},
   "outputs": [
    {
     "data": {
      "text/plain": [
       "['(', '(', '[']"
      ]
     },
     "execution_count": 26,
     "metadata": {},
     "output_type": "execute_result"
    }
   ],
   "source": [
    "a.append(\"(\")\n",
    "a.append(\"[\")\n",
    "a"
   ]
  },
  {
   "cell_type": "code",
   "execution_count": 37,
   "metadata": {},
   "outputs": [],
   "source": [
    "def checkline2(line: str) -> int:\n",
    "   lastseen = []\n",
    "   for token in line:\n",
    "      if not lastseen:\n",
    "         lastseen.append(token)\n",
    "      else:\n",
    "         if token in \"<[({\":\n",
    "            lastseen.append(token)\n",
    "         elif token in \">)}]\":\n",
    "            last = lastseen.pop()\n",
    "            if token == \")\" and not last == \"(\":\n",
    "               return \"\"\n",
    "            if token == \"]\" and not last == \"[\":\n",
    "               return \"\"\n",
    "            if token == \"}\" and not last == \"{\":\n",
    "               return \"\"\n",
    "            if token == \">\" and not last == \"<\":\n",
    "               return \"\"\n",
    "   return lastseen\n"
   ]
  },
  {
   "cell_type": "code",
   "execution_count": null,
   "metadata": {},
   "outputs": [],
   "source": [
    "def part2(linput: List) -> int:\n",
    "   ret = []\n",
    "   for line in linput:\n",
    "       missing = checkline(line)\n",
    "       if missing:\n",
    "          ret.append(autocompletepoints(missing))\n",
    "   print(ret)\n",
    "   pass\n",
    "   return 0"
   ]
  },
  {
   "cell_type": "code",
   "execution_count": 51,
   "metadata": {},
   "outputs": [],
   "source": [
    "a = checkline2(TEST[0])"
   ]
  },
  {
   "cell_type": "markdown",
   "metadata": {},
   "source": [
    "\n",
    "    ): 1 point.\n",
    "    ]: 2 points.\n",
    "    }: 3 points.\n",
    "    >: 4 points.\n"
   ]
  },
  {
   "cell_type": "code",
   "execution_count": 47,
   "metadata": {},
   "outputs": [],
   "source": [
    "getpoint = {'(':1, \"[\": 2, \"{\": 3, \"<\": 4}"
   ]
  },
  {
   "cell_type": "code",
   "execution_count": 52,
   "metadata": {},
   "outputs": [
    {
     "name": "stdout",
     "output_type": "stream",
     "text": [
      "0 - 3\n",
      "3 - 3\n",
      "18 - 2\n",
      "92 - 2\n",
      "462 - 1\n",
      "2311 - 3\n",
      "11558 - 1\n",
      "57791 - 2\n"
     ]
    },
    {
     "data": {
      "text/plain": [
       "288957"
      ]
     },
     "execution_count": 52,
     "metadata": {},
     "output_type": "execute_result"
    }
   ],
   "source": [
    "ret = 0\n",
    "while a:\n",
    "    t = a.pop()\n",
    "    print(f\"{ret} - {getpoint[t]}\")\n",
    "    ret *= 5\n",
    "    ret += getpoint[t]\n",
    "    \n",
    "ret"
   ]
  }
 ],
 "metadata": {
  "interpreter": {
   "hash": "31f2aee4e71d21fbe5cf8b01ff0e069b9275f58929596ceb00d14d90e3e16cd6"
  },
  "kernelspec": {
   "display_name": "Python 3.7.3 64-bit",
   "language": "python",
   "name": "python3"
  },
  "language_info": {
   "codemirror_mode": {
    "name": "ipython",
    "version": 3
   },
   "file_extension": ".py",
   "mimetype": "text/x-python",
   "name": "python",
   "nbconvert_exporter": "python",
   "pygments_lexer": "ipython3",
   "version": "3.10.1"
  },
  "orig_nbformat": 4
 },
 "nbformat": 4,
 "nbformat_minor": 2
}
